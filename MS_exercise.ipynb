{
  "nbformat": 4,
  "nbformat_minor": 0,
  "metadata": {
    "colab": {
      "provenance": [],
      "collapsed_sections": [
        "unQPbCgzJbPZ",
        "vRLPYo3HE0Rg",
        "uir3Y8EaE7Wi",
        "PflQ6Ij4E-la",
        "BnzQrGG6FB3C",
        "jryMfYd-F4yM",
        "7OBCq-GRFLA8",
        "JlkRx9rcFT-3",
        "zTeejcL_FdLW",
        "EuifFUaFFkHv",
        "ScrbyJTTFv5M",
        "3HY548eWJtLF",
        "CvQK--wIJ5_3",
        "VgfXMvX8J9kY",
        "1G-MSfkeKNKn",
        "VANn9SZjKUnE",
        "TmF5x5FvKbsf",
        "aoVXLhkaLS2-",
        "wvDCzWhFNSQh",
        "xYbloFdmNaE1",
        "_U1ZBFuPNhIV",
        "GIs5D9XmNiHx",
        "8QNjbIynNvh2",
        "nqImgU8uOCzl",
        "VeD46MkaOWIw",
        "xNhruo3IObiX",
        "6wXscbiQQCst",
        "VOBxQoXCQHvF",
        "dlb1ap2pQS98",
        "IWkVoUPBGqUj",
        "JGuyk0USGwIQ",
        "lWMUqNthG1--",
        "CqPYik-KG6mM"
      ]
    },
    "kernelspec": {
      "name": "python3",
      "display_name": "Python 3"
    },
    "language_info": {
      "name": "python"
    }
  },
  "cells": [
    {
      "cell_type": "markdown",
      "source": [
        "# **Базовые задачи**"
      ],
      "metadata": {
        "id": "unQPbCgzJbPZ"
      }
    },
    {
      "cell_type": "markdown",
      "source": [
        "## Задача 1:\n",
        "Найдите среднее арифметическое и медиану списка чисел: [15, 20, 25, 30, 35, 40,45, 50, 55, 60].\n"
      ],
      "metadata": {
        "id": "vRLPYo3HE0Rg"
      }
    },
    {
      "cell_type": "code",
      "source": [
        "numbers = [15, 20, 25, 30, 35, 40, 45, 50, 55, 60]\n",
        "\n",
        "mean = sum(numbers) / len(numbers)\n",
        "sorted_numbers = sorted(numbers)\n",
        "median = sorted_numbers[len(sorted_numbers) // 2]\n",
        "\n",
        "print(\"Среднее арифметическое:\", mean)\n",
        "print(\"Медиана:\", median)\n"
      ],
      "metadata": {
        "colab": {
          "base_uri": "https://localhost:8080/"
        },
        "id": "scHdu_lSE441",
        "outputId": "fd0b7fe7-5cad-4ef6-a40f-f13dcd072c74"
      },
      "execution_count": null,
      "outputs": [
        {
          "output_type": "stream",
          "name": "stdout",
          "text": [
            "Среднее арифметическое: 37.5\n",
            "Медиана: 40\n"
          ]
        }
      ]
    },
    {
      "cell_type": "markdown",
      "source": [
        "## Задача 2:\n",
        "Вычислите дисперсию и стандартное отклонение для списка чисел: [3, 8, 12, 18, 25, 30]."
      ],
      "metadata": {
        "id": "uir3Y8EaE7Wi"
      }
    },
    {
      "cell_type": "code",
      "source": [
        "import numpy as np\n",
        "\n",
        "numbers = [3, 8, 12, 18, 25, 30]\n",
        "\n",
        "variance = np.var(numbers)\n",
        "std_deviation = np.std(numbers)\n",
        "\n",
        "print(\"Дисперсия:\", variance)\n",
        "print(\"Стандартное отклонение:\", std_deviation)"
      ],
      "metadata": {
        "colab": {
          "base_uri": "https://localhost:8080/"
        },
        "id": "2WQTpKAjE9DE",
        "outputId": "a14f64ae-1eaf-4e83-e39a-405d03d5d452"
      },
      "execution_count": null,
      "outputs": [
        {
          "output_type": "stream",
          "name": "stdout",
          "text": [
            "Дисперсия: 88.33333333333333\n",
            "Стандартное отклонение: 9.39858145324779\n"
          ]
        }
      ]
    },
    {
      "cell_type": "code",
      "source": [
        "numbers = [3, 8, 12, 18, 25, 30]\n",
        "\n",
        "mean = sum(numbers) / len(numbers)\n",
        "squared_diffs = [(x - mean) ** 2 for x in numbers]\n",
        "variance = sum(squared_diffs) / len(numbers)\n",
        "std_deviation = variance ** 0.5\n",
        "\n",
        "print(\"Дисперсия:\", variance)\n",
        "print(\"Стандартное отклонение:\", std_deviation)\n"
      ],
      "metadata": {
        "colab": {
          "base_uri": "https://localhost:8080/"
        },
        "id": "R4geRs04GXlX",
        "outputId": "d2010266-4750-4959-e9e7-df7e7db05324"
      },
      "execution_count": null,
      "outputs": [
        {
          "output_type": "stream",
          "name": "stdout",
          "text": [
            "Дисперсия: 88.33333333333333\n",
            "Стандартное отклонение: 9.39858145324779\n"
          ]
        }
      ]
    },
    {
      "cell_type": "markdown",
      "source": [
        "## Задача 3:\n",
        "Найдите корреляцию между двумя списками данных: [10, 15, 20, 25, 30] и [5, 10, 15, 20, 25]."
      ],
      "metadata": {
        "id": "PflQ6Ij4E-la"
      }
    },
    {
      "cell_type": "code",
      "source": [
        "import numpy as np\n",
        "\n",
        "data1 = [10, 15, 20, 25, 30]\n",
        "data2 = [5, 10, 15, 20, 25]\n",
        "\n",
        "correlation = np.corrcoef(data1, data2)[0, 1]\n",
        "\n",
        "print(\"Корреляция:\", correlation)"
      ],
      "metadata": {
        "colab": {
          "base_uri": "https://localhost:8080/"
        },
        "id": "J0gno18mFAHp",
        "outputId": "0d90a3b7-ffec-4bc3-831f-d42659554668"
      },
      "execution_count": null,
      "outputs": [
        {
          "output_type": "stream",
          "name": "stdout",
          "text": [
            "Корреляция: 1.0\n"
          ]
        }
      ]
    },
    {
      "cell_type": "code",
      "source": [
        "data1 = [10, 15, 20, 25, 30]\n",
        "data2 = [5, 10, 15, 20, 25]\n",
        "\n",
        "mean1 = sum(data1) / len(data1)\n",
        "mean2 = sum(data2) / len(data2)\n",
        "\n",
        "covariance = sum([(x - mean1) * (y - mean2) for x, y in zip(data1, data2)]) / len(data1)\n",
        "std_deviation1 = (sum([(x - mean1) ** 2 for x in data1]) / len(data1)) ** 0.5\n",
        "std_deviation2 = (sum([(x - mean2) ** 2 for x in data2]) / len(data2)) ** 0.5\n",
        "\n",
        "correlation = covariance / (std_deviation1 * std_deviation2)\n",
        "\n",
        "print(\"Корреляция:\", correlation)"
      ],
      "metadata": {
        "colab": {
          "base_uri": "https://localhost:8080/"
        },
        "id": "TJK-WA4JGbA-",
        "outputId": "73682a50-5bfa-4688-93d1-50ea45979ba8"
      },
      "execution_count": null,
      "outputs": [
        {
          "output_type": "stream",
          "name": "stdout",
          "text": [
            "Корреляция: 0.9999999999999999\n"
          ]
        }
      ]
    },
    {
      "cell_type": "markdown",
      "source": [
        "## Задача 4:\n",
        "Рассчитайте вероятность броска симметричной монеты орлом 3 раза подряд."
      ],
      "metadata": {
        "id": "BnzQrGG6FB3C"
      }
    },
    {
      "cell_type": "code",
      "source": [
        "coin_prob = 0.5  # Вероятность выпадения орла или решки\n",
        "\n",
        "probability_three_heads = coin_prob ** 3\n",
        "\n",
        "print(\"Вероятность выпадения орла 3 раза подряд:\", probability_three_heads)"
      ],
      "metadata": {
        "colab": {
          "base_uri": "https://localhost:8080/"
        },
        "id": "nETR6ZdRFDM3",
        "outputId": "753ff6c9-f9fe-4370-8185-0709ece8ed11"
      },
      "execution_count": null,
      "outputs": [
        {
          "output_type": "stream",
          "name": "stdout",
          "text": [
            "Вероятность выпадения орла 3 раза подряд: 0.125\n"
          ]
        }
      ]
    },
    {
      "cell_type": "markdown",
      "source": [
        "## Задача 5:\n",
        "Вычислите значение функции распределения для стандартного нормального распределения в точке x = 1.5."
      ],
      "metadata": {
        "id": "jryMfYd-F4yM"
      }
    },
    {
      "cell_type": "code",
      "source": [
        "import scipy.stats as stats\n",
        "\n",
        "x = 1.5\n",
        "cdf_value = stats.norm.cdf(x)\n",
        "\n",
        "print(\"Значение функции распределения:\", cdf_value)"
      ],
      "metadata": {
        "colab": {
          "base_uri": "https://localhost:8080/"
        },
        "id": "VjJqoK-QFG2k",
        "outputId": "1f977aeb-d2f8-4d92-f856-fa845733f8e8"
      },
      "execution_count": null,
      "outputs": [
        {
          "output_type": "stream",
          "name": "stdout",
          "text": [
            "Значение функции распределения: 0.9331927987311419\n"
          ]
        }
      ]
    },
    {
      "cell_type": "code",
      "source": [
        "import math\n",
        "\n",
        "def standard_normal_cdf(x):\n",
        "    return (1 + math.erf(x / math.sqrt(2))) / 2\n",
        "\n",
        "x = 1.5\n",
        "cdf_value = standard_normal_cdf(x)\n",
        "\n",
        "print(\"Значение функции распределения:\", cdf_value)"
      ],
      "metadata": {
        "colab": {
          "base_uri": "https://localhost:8080/"
        },
        "id": "JhrPpDezHDz3",
        "outputId": "8815316e-d4c1-47a1-ad48-ddbd9daf5d91"
      },
      "execution_count": null,
      "outputs": [
        {
          "output_type": "stream",
          "name": "stdout",
          "text": [
            "Значение функции распределения: 0.9331927987311419\n"
          ]
        }
      ]
    },
    {
      "cell_type": "markdown",
      "source": [
        "## Задача 6:\n",
        "Найдите обратное значение функции распределения для экспоненциального *распределения* с параметром λ = 0.2 в точке F(x) = 0.7."
      ],
      "metadata": {
        "id": "7OBCq-GRFLA8"
      }
    },
    {
      "cell_type": "code",
      "source": [
        "import scipy.stats as stats\n",
        "\n",
        "x_inverse = stats.expon.ppf(0.7, scale=1/0.2)\n",
        "\n",
        "print(\"Обратное значение функции распределения:\", x_inverse)"
      ],
      "metadata": {
        "colab": {
          "base_uri": "https://localhost:8080/"
        },
        "id": "OP8H-DkSFIcg",
        "outputId": "a3504042-13d7-4234-d0fe-f71fe4f83e05"
      },
      "execution_count": null,
      "outputs": [
        {
          "output_type": "stream",
          "name": "stdout",
          "text": [
            "Обратное значение функции распределения: 6.0198640216296795\n"
          ]
        }
      ]
    },
    {
      "cell_type": "code",
      "source": [
        "def exponential_inverse_cdf(p, scale):\n",
        "    return -scale * math.log(1 - p)\n",
        "\n",
        "lambda_val = 0.2\n",
        "p = 0.7\n",
        "\n",
        "x_inverse = exponential_inverse_cdf(p, scale=1/lambda_val)\n",
        "\n",
        "print(\"Обратное значение функции распределения:\", x_inverse)"
      ],
      "metadata": {
        "colab": {
          "base_uri": "https://localhost:8080/"
        },
        "id": "nkMsblshHJJ_",
        "outputId": "eb1ac316-b3ba-48f9-e50c-fd73f2550a80"
      },
      "execution_count": null,
      "outputs": [
        {
          "output_type": "stream",
          "name": "stdout",
          "text": [
            "Обратное значение функции распределения: 6.0198640216296795\n"
          ]
        }
      ]
    },
    {
      "cell_type": "markdown",
      "source": [
        "## Задача 7:\n",
        "Смоделируйте выборку из нормального распределения с параметрами μ = 50 и σ = 10 размером 1000 элементов."
      ],
      "metadata": {
        "id": "JlkRx9rcFT-3"
      }
    },
    {
      "cell_type": "code",
      "source": [
        "mu = 50\n",
        "sigma = 10\n",
        "sample_size = 1000\n",
        "\n",
        "sample = np.random.normal(mu, sigma, sample_size)\n",
        "\n",
        "print(\"Первые 10 элементов выборки:\", sample[:10])"
      ],
      "metadata": {
        "colab": {
          "base_uri": "https://localhost:8080/"
        },
        "id": "Bhte0il6FYKt",
        "outputId": "df61cb98-7e7c-4334-cc22-806118034866"
      },
      "execution_count": null,
      "outputs": [
        {
          "output_type": "stream",
          "name": "stdout",
          "text": [
            "Первые 10 элементов выборки: [46.43763996 51.49653849 42.88711237 57.36498351 55.90127711 68.87641337\n",
            " 61.07620744 46.74882728 56.33528996 53.81905812]\n"
          ]
        }
      ]
    },
    {
      "cell_type": "code",
      "source": [
        "import random\n",
        "\n",
        "mu = 50\n",
        "sigma = 10\n",
        "sample_size = 1000\n",
        "\n",
        "sample = [random.normalvariate(mu, sigma) for _ in range(sample_size)]\n",
        "\n",
        "print(\"Первые 10 элементов выборки:\", sample[:10])"
      ],
      "metadata": {
        "colab": {
          "base_uri": "https://localhost:8080/"
        },
        "id": "GZ9YqgmaHMsO",
        "outputId": "100e4726-9a5f-4030-855e-5f117e1de5af"
      },
      "execution_count": null,
      "outputs": [
        {
          "output_type": "stream",
          "name": "stdout",
          "text": [
            "Первые 10 элементов выборки: [54.52458477476473, 49.655420046107494, 53.10462168018227, 43.33504636595028, 68.00419015442327, 36.15559243420221, 41.14041038919369, 68.61698118044407, 44.4565985446635, 49.007200435642964]\n"
          ]
        }
      ]
    },
    {
      "cell_type": "markdown",
      "source": [
        "## Задача 8:\n",
        "Проверьте гипотезу, что среднее значение выборки [18.5, 20.1, 22.3, 19.8, 21.7] равно 20.\n"
      ],
      "metadata": {
        "id": "zTeejcL_FdLW"
      }
    },
    {
      "cell_type": "code",
      "source": [
        "from scipy.stats import ttest_1samp\n",
        "\n",
        "sample = [18.5, 20.1, 22.3, 19.8, 21.7]\n",
        "null_mean = 20\n",
        "\n",
        "t_statistic, p_value = ttest_1samp(sample, null_mean)\n",
        "\n",
        "print(\"Значение t-статистики:\", t_statistic)\n",
        "print(\"Значение p-значения:\", p_value)"
      ],
      "metadata": {
        "colab": {
          "base_uri": "https://localhost:8080/"
        },
        "id": "ZNdXSYEIFcZd",
        "outputId": "5b34dd8b-880e-4ffd-eeca-22da7c6a799b"
      },
      "execution_count": null,
      "outputs": [
        {
          "output_type": "stream",
          "name": "stdout",
          "text": [
            "Значение t-статистики: 0.7028488951889079\n",
            "Значение p-значения: 0.5209013837357773\n"
          ]
        }
      ]
    },
    {
      "cell_type": "code",
      "source": [
        "from scipy.stats import t\n",
        "\n",
        "sample = [18.5, 20.1, 22.3, 19.8, 21.7]\n",
        "null_mean = 20\n",
        "\n",
        "sample_mean = sum(sample) / len(sample)\n",
        "sample_std = (sum([(x - sample_mean) ** 2 for x in sample]) / (len(sample) - 1)) ** 0.5\n",
        "sample_size = len(sample)\n",
        "t_statistic = (sample_mean - null_mean) / (sample_std / (sample_size ** 0.5))\n",
        "p_value = 2 * (1 - t.cdf(abs(t_statistic), df=sample_size - 1))\n",
        "\n",
        "print(\"Значение t-статистики:\", t_statistic)\n",
        "print(\"Значение p-значения:\", p_value)"
      ],
      "metadata": {
        "colab": {
          "base_uri": "https://localhost:8080/"
        },
        "id": "gROt8iQkHYKc",
        "outputId": "2b611e61-f0ce-4b9c-ad3b-ef4e19460599"
      },
      "execution_count": null,
      "outputs": [
        {
          "output_type": "stream",
          "name": "stdout",
          "text": [
            "Значение t-статистики: 0.7028488951889079\n",
            "Значение p-значения: 0.5209013837357772\n"
          ]
        }
      ]
    },
    {
      "cell_type": "markdown",
      "source": [
        "## Задача 9:\n",
        "Вычислите интервальный доверительный интервал для среднего значения выборки [120, 125, 130, 135, 140] с уровнем доверия 95%."
      ],
      "metadata": {
        "id": "EuifFUaFFkHv"
      }
    },
    {
      "cell_type": "code",
      "source": [
        "from scipy.stats import t\n",
        "\n",
        "sample = [120, 125, 130, 135, 140]\n",
        "confidence_level = 0.95\n",
        "\n",
        "sample_mean = np.mean(sample)\n",
        "sample_std = np.std(sample, ddof=1)\n",
        "sample_size = len(sample)\n",
        "margin_of_error = t.ppf((1 + confidence_level) / 2, df=sample_size - 1) * (sample_std / np.sqrt(sample_size))\n",
        "\n",
        "confidence_interval = (sample_mean - margin_of_error, sample_mean + margin_of_error)\n",
        "\n",
        "print(\"Доверительный интервал:\", confidence_interval)"
      ],
      "metadata": {
        "colab": {
          "base_uri": "https://localhost:8080/"
        },
        "id": "syINsiLLFtjW",
        "outputId": "c2f9b2dc-ae98-4165-c9c5-3d178988ffc0"
      },
      "execution_count": null,
      "outputs": [
        {
          "output_type": "stream",
          "name": "stdout",
          "text": [
            "Доверительный интервал: (120.1837841926122, 139.8162158073878)\n"
          ]
        }
      ]
    },
    {
      "cell_type": "code",
      "source": [
        "sample = [120, 125, 130, 135, 140]\n",
        "confidence_level = 0.95\n",
        "\n",
        "sample_mean = sum(sample) / len(sample)\n",
        "sample_std = (sum([(x - sample_mean) ** 2 for x in sample]) / (len(sample) - 1)) ** 0.5\n",
        "sample_size = len(sample)\n",
        "t_critical = t.ppf((1 + confidence_level) / 2, df=sample_size - 1)\n",
        "margin_of_error = t_critical * (sample_std / (sample_size ** 0.5))\n",
        "\n",
        "confidence_interval = (sample_mean - margin_of_error, sample_mean + margin_of_error)\n",
        "\n",
        "print(\"Интервальный доверительный интервал:\", confidence_interval)"
      ],
      "metadata": {
        "colab": {
          "base_uri": "https://localhost:8080/"
        },
        "id": "rcyYhxmlHnYC",
        "outputId": "191ca4f5-6a68-4cae-cacc-bc9945c08d0c"
      },
      "execution_count": null,
      "outputs": [
        {
          "output_type": "stream",
          "name": "stdout",
          "text": [
            "Интервальный доверительный интервал: (120.1837841926122, 139.8162158073878)\n"
          ]
        }
      ]
    },
    {
      "cell_type": "markdown",
      "source": [
        "## Задача 10:\n",
        "Вычислите коэффициент детерминации (R^2) для линейной регрессии между переменными X и Y:"
      ],
      "metadata": {
        "id": "ScrbyJTTFv5M"
      }
    },
    {
      "cell_type": "code",
      "source": [
        "import numpy as np\n",
        "from sklearn.linear_model import LinearRegression\n",
        "\n",
        "X = np.array([1, 2, 3, 4, 5])\n",
        "Y = np.array([2, 4, 5, 4, 5])\n",
        "\n",
        "X = X.reshape(-1, 1)\n",
        "Y = Y.reshape(-1, 1)\n",
        "\n",
        "model = LinearRegression()\n",
        "model.fit(X, Y)\n",
        "\n",
        "R_squared = model.score(X, Y)\n",
        "\n",
        "print(\"Коэффициент детерминации (R^2):\", R_squared)"
      ],
      "metadata": {
        "colab": {
          "base_uri": "https://localhost:8080/"
        },
        "id": "3uWTZ_5AFxp4",
        "outputId": "3a0c1986-3924-4be8-d40c-a548cdf59fc9"
      },
      "execution_count": null,
      "outputs": [
        {
          "output_type": "stream",
          "name": "stdout",
          "text": [
            "Коэффициент детерминации (R^2): 0.6000000000000001\n"
          ]
        }
      ]
    },
    {
      "cell_type": "code",
      "source": [
        "X = np.array([1, 2, 3, 4, 5])\n",
        "Y = np.array([2, 4, 5, 4, 5])\n",
        "\n",
        "X_mean = sum(X) / len(X)\n",
        "Y_mean = sum(Y) / len(Y)\n",
        "\n",
        "numerator = sum([(x - X_mean) * (y - Y_mean) for x, y in zip(X, Y)])\n",
        "denominator_X = sum([(x - X_mean) ** 2 for x in X])\n",
        "denominator_Y = sum([(y - Y_mean) ** 2 for y in Y])\n",
        "\n",
        "R_squared = (numerator ** 2) / (denominator_X * denominator_Y)\n",
        "\n",
        "print(\"Коэффициент детерминации (R^2):\", R_squared)"
      ],
      "metadata": {
        "colab": {
          "base_uri": "https://localhost:8080/"
        },
        "id": "gH66TBbAHjAp",
        "outputId": "536d6882-0c28-4c5d-facb-1694f3c11220"
      },
      "execution_count": null,
      "outputs": [
        {
          "output_type": "stream",
          "name": "stdout",
          "text": [
            "Коэффициент детерминации (R^2): 0.6\n"
          ]
        }
      ]
    },
    {
      "cell_type": "markdown",
      "source": [],
      "metadata": {
        "id": "89ZUK5HMJZ1O"
      }
    },
    {
      "cell_type": "markdown",
      "source": [
        "# **Задачи с графической интерпретацией**"
      ],
      "metadata": {
        "id": "3HY548eWJtLF"
      }
    },
    {
      "cell_type": "markdown",
      "source": [
        "## Задача 1:\n",
        "Постройте гистограмму для выборки расходов клиентов магазина на покупку продуктов. Данные о расходах (в долларах): [20, 25, 30, 35, 40, 45, 50, 55, 60, 65, 70, 75, 80, 85, 90, 95, 100]."
      ],
      "metadata": {
        "id": "CvQK--wIJ5_3"
      }
    },
    {
      "cell_type": "code",
      "source": [
        "import matplotlib.pyplot as plt\n",
        "\n",
        "expenses = [20, 25, 30, 35, 40, 45, 50, 55, 60, 65, 70, 75, 80, 85, 90, 95, 100]\n",
        "\n",
        "plt.hist(expenses, bins=8, edgecolor='black')\n",
        "plt.title(\"Распределение расходов на продукты\")\n",
        "plt.xlabel(\"Расходы ($)\")\n",
        "plt.ylabel(\"Частота\")\n",
        "plt.show()\n"
      ],
      "metadata": {
        "colab": {
          "base_uri": "https://localhost:8080/"
        },
        "id": "K2Y09VDJJ2Ak",
        "outputId": "6286a74f-7925-4192-8c09-97975af21305"
      },
      "execution_count": null,
      "outputs": [
        {
          "output_type": "display_data",
          "data": {
            "text/plain": [
              "<Figure size 640x480 with 1 Axes>"
            ],
            "image/png": "[encoded data removed]"
          },
          "metadata": {}
        }
      ]
    },
    {
      "cell_type": "markdown",
      "source": [
        "## Задача 2:\n",
        "Постройте ящик с усами для времени выполнения задач на сервере. Данные о времени выполнения (в миллисекундах): [120, 150, 180, 200, 220, 240, 260, 280, 300, 320, 350, 400, 450, 500, 600]."
      ],
      "metadata": {
        "id": "VgfXMvX8J9kY"
      }
    },
    {
      "cell_type": "code",
      "source": [
        "data = [120, 150, 180, 200, 220, 240, 260, 280, 300, 320, 350, 400, 450, 500, 600]\n",
        "\n",
        "plt.boxplot(data, vert=False, labels=[\"Время выполнения\"])\n",
        "plt.title(\"Ящик с усами времени выполнения задач\")\n",
        "plt.xlabel(\"Время (мс)\")\n",
        "plt.show()"
      ],
      "metadata": {
        "colab": {
          "base_uri": "https://localhost:8080/"
        },
        "id": "bisb7FwPKAFw",
        "outputId": "17bbe80b-ddd8-4857-c80f-603f4fa806f2"
      },
      "execution_count": null,
      "outputs": [
        {
          "output_type": "display_data",
          "data": {
            "text/plain": [
              "<Figure size 640x480 with 1 Axes>"
            ],
            "image/png": "[encoded data removed]"
          },
          "metadata": {}
        }
      ]
    },
    {
      "cell_type": "markdown",
      "source": [
        "## Задача 3:\n",
        "Постройте график плотности вероятности для нормального распределения с параметрами μ = 50 и σ = 10."
      ],
      "metadata": {
        "id": "1G-MSfkeKNKn"
      }
    },
    {
      "cell_type": "code",
      "source": [
        "import numpy as np\n",
        "import matplotlib.pyplot as plt\n",
        "import scipy.stats as stats\n",
        "\n",
        "mu = 50\n",
        "sigma = 10\n",
        "\n",
        "x = np.linspace(mu - 3*sigma, mu + 3*sigma, 100)\n",
        "pdf = stats.norm.pdf(x, mu, sigma)\n",
        "\n",
        "plt.plot(x, pdf, color='blue')\n",
        "plt.title(\"График плотности вероятности нормального распределения\")\n",
        "plt.xlabel(\"Значение\")\n",
        "plt.ylabel(\"Плотность вероятности\")\n",
        "plt.show()\n"
      ],
      "metadata": {
        "colab": {
          "base_uri": "https://localhost:8080/"
        },
        "id": "WUipcyhZKQCD",
        "outputId": "8f5ec1ec-9ad2-4396-f7ab-28e31896e9d8"
      },
      "execution_count": null,
      "outputs": [
        {
          "output_type": "display_data",
          "data": {
            "text/plain": [
              "<Figure size 640x480 with 1 Axes>"
            ],
            "image/png": "[encoded data removed]"
          },
          "metadata": {}
        }
      ]
    },
    {
      "cell_type": "markdown",
      "source": [
        "## Задача 4:\n",
        "Постройте график распределения Пуассона с параметром λ = 5."
      ],
      "metadata": {
        "id": "VANn9SZjKUnE"
      }
    },
    {
      "cell_type": "code",
      "source": [
        "import numpy as np\n",
        "import matplotlib.pyplot as plt\n",
        "import scipy.stats as stats\n",
        "\n",
        "lambda_val = 5\n",
        "x = np.arange(0, 15)\n",
        "pmf = stats.poisson.pmf(x, lambda_val)\n",
        "\n",
        "plt.bar(x, pmf, color='green', alpha=0.7)\n",
        "plt.title(\"График распределения Пуассона\")\n",
        "plt.xlabel(\"Значение\")\n",
        "plt.ylabel(\"Вероятность\")\n",
        "plt.show()"
      ],
      "metadata": {
        "colab": {
          "base_uri": "https://localhost:8080/"
        },
        "id": "gAPGojshKW0Y",
        "outputId": "c4de6935-31b2-4f7c-806d-8ff125d2506e"
      },
      "execution_count": null,
      "outputs": [
        {
          "output_type": "display_data",
          "data": {
            "text/plain": [
              "<Figure size 640x480 with 1 Axes>"
            ],
            "image/png": "[encoded data removed]"
          },
          "metadata": {}
        }
      ]
    },
    {
      "cell_type": "markdown",
      "source": [
        "## Задача 5:\n",
        "Постройте график экспоненциального распределения с параметром λ = 0.2."
      ],
      "metadata": {
        "id": "TmF5x5FvKbsf"
      }
    },
    {
      "cell_type": "code",
      "source": [
        "import numpy as np\n",
        "import matplotlib.pyplot as plt\n",
        "import scipy.stats as stats\n",
        "\n",
        "lambda_val = 0.2\n",
        "x = np.linspace(0, 20, 100)\n",
        "pdf = stats.expon.pdf(x, scale=1/lambda_val)\n",
        "\n",
        "plt.plot(x, pdf, color='red')\n",
        "plt.title(\"График плотности вероятности экспоненциального распределения\")\n",
        "plt.xlabel(\"Значение\")\n",
        "plt.ylabel(\"Плотность вероятности\")\n",
        "plt.show()"
      ],
      "metadata": {
        "colab": {
          "base_uri": "https://localhost:8080/"
        },
        "id": "-V0D2G99KdRx",
        "outputId": "ca30cbd3-d2b7-40a1-d680-0952d14b7f62"
      },
      "execution_count": null,
      "outputs": [
        {
          "output_type": "display_data",
          "data": {
            "text/plain": [
              "<Figure size 640x480 with 1 Axes>"
            ],
            "image/png": "[encoded data removed]"
          },
          "metadata": {}
        }
      ]
    },
    {
      "cell_type": "markdown",
      "source": [],
      "metadata": {
        "id": "EyCs8HOALR1-"
      }
    },
    {
      "cell_type": "markdown",
      "source": [
        "# **Модуль: \"Numerical Linear Algebra\"**"
      ],
      "metadata": {
        "id": "aoVXLhkaLS2-"
      }
    },
    {
      "cell_type": "markdown",
      "source": [
        "## Статистические методы"
      ],
      "metadata": {
        "id": "yhBfegmxLbWd"
      }
    },
    {
      "cell_type": "markdown",
      "source": [
        "### 2.1.1. Доверительные интервалы:"
      ],
      "metadata": {
        "id": "wvDCzWhFNSQh"
      }
    },
    {
      "cell_type": "markdown",
      "source": [
        "Задача:\n",
        "Вы анализируете результаты опроса, в котором 300 человек ответили на вопрос о своем уровне удовлетворенности продуктом. Средний уровень удовлетворенности составил 4.7 с стандартным отклонением 0.9. Постройте 95% доверительный интервал для среднего уровня удовлетворенности."
      ],
      "metadata": {
        "id": "t7DM2Ci6NWtG"
      }
    },
    {
      "cell_type": "code",
      "source": [
        "import scipy.stats as stats\n",
        "import numpy as np\n",
        "\n",
        "confidence_level = 0.95\n",
        "sample_mean = 4.7\n",
        "sample_std = 0.9\n",
        "sample_size = 300\n",
        "\n",
        "margin_of_error = stats.norm.ppf((1 + confidence_level) / 2) * (sample_std / np.sqrt(sample_size))\n",
        "confidence_interval = (sample_mean - margin_of_error, sample_mean + margin_of_error)\n",
        "\n",
        "print(\"95% Доверительный интервал:\", confidence_interval)"
      ],
      "metadata": {
        "id": "uHHIMaWxNXS_",
        "colab": {
          "base_uri": "https://localhost:8080/"
        },
        "outputId": "ba654c8b-4ec3-40b8-848a-573bb3ec742e"
      },
      "execution_count": null,
      "outputs": [
        {
          "output_type": "stream",
          "name": "stdout",
          "text": [
            "95% Доверительный интервал: (4.598157283933145, 4.801842716066855)\n"
          ]
        }
      ]
    },
    {
      "cell_type": "markdown",
      "source": [
        "### 2.1.2. A/B тестирование:"
      ],
      "metadata": {
        "id": "xYbloFdmNaE1"
      }
    },
    {
      "cell_type": "markdown",
      "source": [
        "Задача:\n",
        "Вы проводите A/B тестирование для двух версий сайта с целью определить, какая из них приводит к большему количеству регистраций. Первая версия сайта показала 300 регистраций из 5000 посещений, вторая версия - 320 регистраций из 5200 посещений. Нужно ли вам считать, что различия в конверсии статистически значимыми на уровне значимости 0.05?"
      ],
      "metadata": {
        "id": "_7DLR9RgNcRA"
      }
    },
    {
      "cell_type": "code",
      "source": [
        "import scipy.stats as stats\n",
        "\n",
        "# Количество посещений и регистраций для двух версий\n",
        "visits_A = 5000\n",
        "registrations_A = 300\n",
        "visits_B = 5200\n",
        "registrations_B = 320\n",
        "\n",
        "# Конверсии для каждой версии\n",
        "conversion_A = registrations_A / visits_A\n",
        "conversion_B = registrations_B / visits_B\n",
        "\n",
        "# Вычисление статистической значимости с помощью z-теста\n",
        "pooled_conversion = (registrations_A + registrations_B) / (visits_A + visits_B)\n",
        "pooled_standard_error = ((pooled_conversion * (1 - pooled_conversion)) / visits_A + (pooled_conversion * (1 - pooled_conversion)) / visits_B) ** 0.5\n",
        "z_score = (conversion_B - conversion_A) / pooled_standard_error\n",
        "p_value = 2 * (1 - stats.norm.cdf(abs(z_score)))\n",
        "\n",
        "alpha = 0.05\n",
        "\n",
        "if p_value < alpha:\n",
        "    result = \"статистически значимые\"\n",
        "else:\n",
        "    result = \"не статистически значимые\"\n",
        "\n",
        "print(\"P-значение:\", p_value)\n",
        "print(\"Результат A/B тестирования:\", result)"
      ],
      "metadata": {
        "id": "0TR3oQQmNa8B",
        "colab": {
          "base_uri": "https://localhost:8080/"
        },
        "outputId": "04688a08-204e-49f4-801d-280942966a10"
      },
      "execution_count": null,
      "outputs": [
        {
          "output_type": "stream",
          "name": "stdout",
          "text": [
            "P-значение: 0.7451179461116451\n",
            "Результат A/B тестирования: не статистически значимые\n"
          ]
        }
      ]
    },
    {
      "cell_type": "markdown",
      "source": [
        "### 2.1.3. Параметрические тесты:"
      ],
      "metadata": {
        "id": "_U1ZBFuPNhIV"
      }
    },
    {
      "cell_type": "markdown",
      "source": [
        "Задача:\n",
        "У вас есть две выборки данных о времени выполнения задач в миллисекундах для двух разных алгоритмов. Проверьте гипотезу, что среднее время выполнения задач с использованием первого алгоритма равно среднему времени выполнения задач со вторым алгоритмом на уровне значимости 0.05."
      ],
      "metadata": {
        "id": "veV-HM7rNkqP"
      }
    },
    {
      "cell_type": "code",
      "source": [
        "import scipy.stats as stats\n",
        "\n",
        "data_algorithm_1 = [120, 150, 180, 200, 220, 240, 260, 280, 300, 320]\n",
        "data_algorithm_2 = [130, 155, 175, 210, 225, 245, 265, 285, 310, 330]\n",
        "\n",
        "alpha = 0.05\n",
        "\n",
        "t_statistic, p_value = stats.ttest_ind(data_algorithm_1, data_algorithm_2)\n",
        "\n",
        "if p_value < alpha:\n",
        "    result = \"отвергаем\"\n",
        "else:\n",
        "    result = \"не отвергаем\"\n",
        "\n",
        "print(\"P-значение:\", p_value)\n",
        "print(\"Результат теста:\", result)"
      ],
      "metadata": {
        "id": "ykhuOrAdNlsO",
        "colab": {
          "base_uri": "https://localhost:8080/"
        },
        "outputId": "bbaf4d71-c064-4089-f24d-12e9e5d3fc72"
      },
      "execution_count": null,
      "outputs": [
        {
          "output_type": "stream",
          "name": "stdout",
          "text": [
            "P-значение: 0.8410594386160383\n",
            "Результат теста: не отвергаем\n"
          ]
        }
      ]
    },
    {
      "cell_type": "markdown",
      "source": [
        "### 2.1.4. Размер выборки, его связь с ошибкой:"
      ],
      "metadata": {
        "id": "GIs5D9XmNiHx"
      }
    },
    {
      "cell_type": "markdown",
      "source": [
        "Задача:\n",
        "Вы хотите провести опрос среди клиентов интернет-магазина, чтобы оценить их уровень удовлетворенности. Сколько клиентов вам нужно опросить, чтобы при уровне доверия 95% и стандартном отклонении 0.8, ошибка оценки среднего уровня удовлетворенности составила не более 0.2?"
      ],
      "metadata": {
        "id": "KoNiQVS9NqvI"
      }
    },
    {
      "cell_type": "code",
      "source": [
        "import scipy.stats as stats\n",
        "\n",
        "confidence_level = 0.95\n",
        "desired_margin_error = 0.2\n",
        "sample_std = 0.8\n",
        "\n",
        "z_score = stats.norm.ppf((1 + confidence_level) / 2)\n",
        "sample_size = ((z_score * sample_std) / desired_margin_error) ** 2\n",
        "\n",
        "print(\"Необходимый размер выборки:\", round(sample_size))"
      ],
      "metadata": {
        "id": "E3gBy_kgNtw5",
        "colab": {
          "base_uri": "https://localhost:8080/"
        },
        "outputId": "3d158f61-6dcd-4c8b-940a-9610e307ba9d"
      },
      "execution_count": null,
      "outputs": [
        {
          "output_type": "stream",
          "name": "stdout",
          "text": [
            "Необходимый размер выборки: 61\n"
          ]
        }
      ]
    },
    {
      "cell_type": "markdown",
      "source": [
        "### 2.2.1. Непараметрические тесты:"
      ],
      "metadata": {
        "id": "8QNjbIynNvh2"
      }
    },
    {
      "cell_type": "markdown",
      "source": [
        "Задача:\n",
        "У вас есть две выборки оценок студентов для двух разных методов обучения. Проверьте гипотезу, что оценки в обоих случаях имеют одинаковое распределение с использованием непараметрического критерия Манна-Уитни на уровне значимости 0.05."
      ],
      "metadata": {
        "id": "TyapOxezNxgl"
      }
    },
    {
      "cell_type": "code",
      "source": [
        "import scipy.stats as stats\n",
        "\n",
        "data_method_1 = [85, 90, 88, 78, 92, 87, 89, 85, 95, 84]\n",
        "data_method_2 = [75, 88, 85, 76, 82, 80, 88, 85, 90, 79]\n",
        "\n",
        "alpha = 0.05\n",
        "\n",
        "u_statistic, p_value = stats.mannwhitneyu(data_method_1, data_method_2)\n",
        "\n",
        "if p_value < alpha:\n",
        "    result = \"отвергаем\"\n",
        "else:\n",
        "    result = \"не отвергаем\"\n",
        "\n",
        "print(\"P-значение:\", p_value)\n",
        "print(\"Результат теста:\", result)\n"
      ],
      "metadata": {
        "id": "WJAh4l4MNyfz",
        "colab": {
          "base_uri": "https://localhost:8080/"
        },
        "outputId": "013506d9-3240-41ca-efc6-2b6f380f8077"
      },
      "execution_count": null,
      "outputs": [
        {
          "output_type": "stream",
          "name": "stdout",
          "text": [
            "P-значение: 0.09442540812895012\n",
            "Результат теста: не отвергаем\n"
          ]
        }
      ]
    },
    {
      "cell_type": "markdown",
      "source": [
        "### 2.2.2. Бутстрап:"
      ],
      "metadata": {
        "id": "nqImgU8uOCzl"
      }
    },
    {
      "cell_type": "markdown",
      "source": [
        "Задача:\n",
        "Вы хотите оценить средний рост в популяции. Для этого у вас есть выборка из 50 человек. Постройте 95% доверительный интервал для среднего роста в популяции с использованием метода бутстрап."
      ],
      "metadata": {
        "id": "yiG6RbHAOFUI"
      }
    },
    {
      "cell_type": "code",
      "source": [
        "import numpy as np\n",
        "\n",
        "# Ваша выборка (в сантиметрах)\n",
        "sample_data = [165, 170, 172, 168, 175, 160, 180, 185, 175, 170,\n",
        "               168, 167, 172, 174, 178, 182, 173, 169, 167, 169,\n",
        "               171, 176, 177, 171, 174, 176, 172, 168, 173, 179,\n",
        "               183, 168, 170, 169, 174, 175, 180, 176, 172, 167,\n",
        "               166, 172, 171, 173, 176, 181, 185, 170, 178, 168]\n",
        "\n",
        "# Количество бутстрап-подвыборок\n",
        "num_bootstrap_samples = 10000\n",
        "\n",
        "bootstrap_sample_means = []\n",
        "for _ in range(num_bootstrap_samples):\n",
        "    bootstrap_sample = np.random.choice(sample_data, size=len(sample_data), replace=True)\n",
        "    bootstrap_sample_mean = np.mean(bootstrap_sample)\n",
        "    bootstrap_sample_means.append(bootstrap_sample_mean)\n",
        "\n",
        "confidence_level = 0.95\n",
        "lower_percentile = (1 - confidence_level) / 2\n",
        "upper_percentile = 1 - lower_percentile\n",
        "\n",
        "lower_bound = np.percentile(bootstrap_sample_means, lower_percentile * 100)\n",
        "upper_bound = np.percentile(bootstrap_sample_means, upper_percentile * 100)\n",
        "\n",
        "print(\"95% Доверительный интервал:\", (lower_bound, upper_bound))\n"
      ],
      "metadata": {
        "id": "C_kgDi4XOGSe",
        "colab": {
          "base_uri": "https://localhost:8080/"
        },
        "outputId": "007e4002-0345-4f8e-e457-4d88afac8b9f"
      },
      "execution_count": null,
      "outputs": [
        {
          "output_type": "stream",
          "name": "stdout",
          "text": [
            "95% Доверительный интервал: (171.54, 174.5)\n"
          ]
        }
      ]
    },
    {
      "cell_type": "markdown",
      "source": [
        "### 2.2.3. Нелинейное преобразование данных:"
      ],
      "metadata": {
        "id": "VeD46MkaOWIw"
      }
    },
    {
      "cell_type": "markdown",
      "source": [
        "Задача:\n",
        "Вы исследуете зависимость между возрастом сотрудников и их производительностью. Постройте график рассеяния и определите, есть ли нелинейная зависимость между возрастом и производительностью. Если зависимость нелинейная, примените логарифмическое преобразование к производительности и постройте новый график рассеяния."
      ],
      "metadata": {
        "id": "d_Dsy9INOYPx"
      }
    },
    {
      "cell_type": "code",
      "source": [
        "import numpy as np\n",
        "import matplotlib.pyplot as plt\n",
        "\n",
        "# Генерация данных\n",
        "np.random.seed(42)\n",
        "ages = np.random.randint(20, 60, size=100)\n",
        "productivity = 100 + 2 * ages + np.random.normal(0, 10, size=100)\n",
        "\n",
        "# График рассеяния\n",
        "plt.scatter(ages, productivity)\n",
        "plt.title(\"Зависимость между возрастом и производительностью\")\n",
        "plt.xlabel(\"Возраст\")\n",
        "plt.ylabel(\"Производительность\")\n",
        "plt.show()\n",
        "\n",
        "# Проверка на нелинейность\n",
        "correlation = np.corrcoef(ages, productivity)[0, 1]\n",
        "\n",
        "if abs(correlation) < 0.5:\n",
        "    print(\"Зависимость нелинейная\")\n",
        "\n",
        "    # Логарифмическое преобразование\n",
        "    log_productivity = np.log(productivity)\n",
        "\n",
        "    # График рассеяния после преобразования\n",
        "    plt.scatter(ages, log_productivity)\n",
        "    plt.title(\"Зависимость между возрастом и логарифмом производительности\")\n",
        "    plt.xlabel(\"Возраст\")\n",
        "    plt.ylabel(\"Логарифм производительности\")\n",
        "    plt.show()\n",
        "else:\n",
        "    print(\"Зависимость линейная\")"
      ],
      "metadata": {
        "id": "OwN6HeLaOZFP",
        "colab": {
          "base_uri": "https://localhost:8080/"
        },
        "outputId": "46b61bb6-626a-42d1-b98b-4244c0fb6ff0"
      },
      "execution_count": null,
      "outputs": [
        {
          "output_type": "display_data",
          "data": {
            "text/plain": [
              "<Figure size 640x480 with 1 Axes>"
            ],
            "image/png": "[encoded data removed]"
          },
          "metadata": {}
        },
        {
          "output_type": "stream",
          "name": "stdout",
          "text": [
            "Зависимость линейная\n"
          ]
        }
      ]
    },
    {
      "cell_type": "markdown",
      "source": [
        "### 2.2.4. Множественная проверка:"
      ],
      "metadata": {
        "id": "xNhruo3IObiX"
      }
    },
    {
      "cell_type": "markdown",
      "source": [
        "Задача:\n",
        "Вы тестируете эффективность новых лекарственных препаратов на 10 различных болезнях. Вам нужно применить поправку Бонферрони для управления ошибкой множественной проверки гипотез. Уровень значимости для каждой отдельной гипотезы составляет 0.05. Примените поправку Бонферрони и определите, какие гипотезы остаются статистически значимыми."
      ],
      "metadata": {
        "id": "9X6FGzKtOdk4"
      }
    },
    {
      "cell_type": "code",
      "source": [
        "import numpy as np\n",
        "import scipy.stats as stats\n",
        "\n",
        "# Генерация данных\n",
        "np.random.seed(42)\n",
        "p_values = np.random.rand(10) * 0.05\n",
        "\n",
        "# Уровень значимости для множественной проверки\n",
        "alpha_individual = 0.05\n",
        "num_tests = len(p_values)\n",
        "alpha_corrected = alpha_individual / num_tests\n",
        "\n",
        "significant_hypotheses = []\n",
        "\n",
        "for i, p_value in enumerate(p_values):\n",
        "    if p_value < alpha_corrected:\n",
        "        significant_hypotheses.append(i)\n",
        "\n",
        "print(\"Список статистически значимых гипотез:\", significant_hypotheses)"
      ],
      "metadata": {
        "id": "tFIliNkcOejQ",
        "colab": {
          "base_uri": "https://localhost:8080/"
        },
        "outputId": "64e2077f-a0c8-4f50-e1ad-21079a01f954"
      },
      "execution_count": null,
      "outputs": [
        {
          "output_type": "stream",
          "name": "stdout",
          "text": [
            "Список статистически значимых гипотез: [6]\n"
          ]
        }
      ]
    },
    {
      "cell_type": "markdown",
      "source": [
        "### 2.3.1. Матрица ковариации:"
      ],
      "metadata": {
        "id": "6wXscbiQQCst"
      }
    },
    {
      "cell_type": "markdown",
      "source": [
        "Задача:\n",
        "У вас есть данные о росте (в сантиметрах) и весе (в килограммах) группы людей. Постройте матрицу ковариации для этих двух переменных."
      ],
      "metadata": {
        "id": "MIfGKv1aQEQN"
      }
    },
    {
      "cell_type": "code",
      "source": [
        "import numpy as np\n",
        "\n",
        "# Данные о росте и весе (по столбцам)\n",
        "data = np.array([\n",
        "    [165, 60],\n",
        "    [170, 65],\n",
        "    [175, 70],\n",
        "    [160, 55],\n",
        "    [180, 75]\n",
        "])\n",
        "\n",
        "cov_matrix = np.cov(data, rowvar=False)\n",
        "print(\"Матрица ковариации:\")\n",
        "print(cov_matrix)"
      ],
      "metadata": {
        "colab": {
          "base_uri": "https://localhost:8080/"
        },
        "id": "r8a7-ZzfQF3G",
        "outputId": "d034ac6f-098c-4887-e541-3a8a0744659c"
      },
      "execution_count": null,
      "outputs": [
        {
          "output_type": "stream",
          "name": "stdout",
          "text": [
            "Матрица ковариации:\n",
            "[[62.5 62.5]\n",
            " [62.5 62.5]]\n"
          ]
        }
      ]
    },
    {
      "cell_type": "code",
      "source": [
        "import numpy as np\n",
        "\n",
        "# Данные о росте и весе (по столбцам)\n",
        "data = np.array([\n",
        "    [165, 60],\n",
        "    [170, 65],\n",
        "    [175, 70],\n",
        "    [160, 55],\n",
        "    [180, 75]\n",
        "])\n",
        "\n",
        "# Вычисление средних\n",
        "mean_values = np.mean(data, axis=0)\n",
        "\n",
        "# Центрирование данных\n",
        "mean_centered_data = data - mean_values\n",
        "\n",
        "# Вычисление матрицы ковариации\n",
        "num_samples = data.shape[0]\n",
        "cov_matrix = np.dot(mean_centered_data.T, mean_centered_data) / (num_samples - 1)\n",
        "\n",
        "print(\"Матрица ковариации:\")\n",
        "print(cov_matrix)"
      ],
      "metadata": {
        "colab": {
          "base_uri": "https://localhost:8080/"
        },
        "id": "bTgQVLcKQpx4",
        "outputId": "0521ecf5-2ca3-452f-8bf7-65d813827507"
      },
      "execution_count": null,
      "outputs": [
        {
          "output_type": "stream",
          "name": "stdout",
          "text": [
            "Матрица ковариации:\n",
            "[[62.5 62.5]\n",
            " [62.5 62.5]]\n"
          ]
        }
      ]
    },
    {
      "cell_type": "markdown",
      "source": [
        "### 2.3.2. Применение метода главных компонент (PCA):"
      ],
      "metadata": {
        "id": "VOBxQoXCQHvF"
      }
    },
    {
      "cell_type": "markdown",
      "source": [
        "Задача:\n",
        "У вас есть данные о росте (в сантиметрах), весе (в килограммах) и оценках (в баллах) группы людей. Примените метод главных компонент для снижения размерности данных до 2D и постройте новый график рассеяния."
      ],
      "metadata": {
        "id": "qNoNzmoOQHtH"
      }
    },
    {
      "cell_type": "code",
      "source": [
        "import numpy as np\n",
        "import matplotlib.pyplot as plt\n",
        "from sklearn.decomposition import PCA\n",
        "\n",
        "# Данные о росте, весе и оценках (по столбцам)\n",
        "data = np.array([\n",
        "    [165, 60, 85],\n",
        "    [170, 65, 78],\n",
        "    [175, 70, 92],\n",
        "    [160, 55, 70],\n",
        "    [180, 75, 88]\n",
        "])\n",
        "\n",
        "# Применение PCA\n",
        "pca = PCA(n_components=2)\n",
        "data_transformed = pca.fit_transform(data)\n",
        "\n",
        "# График рассеяния\n",
        "plt.scatter(data_transformed[:, 0], data_transformed[:, 1])\n",
        "plt.title(\"Применение PCA\")\n",
        "plt.xlabel(\"Главная компонента 1\")\n",
        "plt.ylabel(\"Главная компонента 2\")\n",
        "plt.show()"
      ],
      "metadata": {
        "colab": {
          "base_uri": "https://localhost:8080/",
          "height": 472
        },
        "id": "iZTj0bQ9QMMF",
        "outputId": "b6594401-69b7-4822-b455-288e6ce7497e"
      },
      "execution_count": null,
      "outputs": [
        {
          "output_type": "display_data",
          "data": {
            "text/plain": [
              "<Figure size 640x480 with 1 Axes>"
            ],
            "image/png": "[encoded data removed]"
          },
          "metadata": {}
        }
      ]
    },
    {
      "cell_type": "code",
      "source": [
        "import numpy as np\n",
        "import matplotlib.pyplot as plt\n",
        "\n",
        "# Данные о росте, весе и оценках (по столбцам)\n",
        "data = np.array([\n",
        "    [165, 60, 85],\n",
        "    [170, 65, 78],\n",
        "    [175, 70, 92],\n",
        "    [160, 55, 70],\n",
        "    [180, 75, 88]\n",
        "])\n",
        "\n",
        "# Вычисление средних\n",
        "mean_values = np.mean(data, axis=0)\n",
        "\n",
        "# Центрирование данных\n",
        "mean_centered_data = data - mean_values\n",
        "\n",
        "# Вычисление матрицы ковариации\n",
        "num_samples = data.shape[0]\n",
        "cov_matrix = np.dot(mean_centered_data.T, mean_centered_data) / (num_samples - 1)\n",
        "\n",
        "# Вычисление собственных значений и собственных векторов\n",
        "eigenvalues, eigenvectors = np.linalg.eig(cov_matrix)\n",
        "\n",
        "# Сортировка собственных значений и векторов по убыванию\n",
        "sorted_indices = np.argsort(eigenvalues)[::-1]\n",
        "eigenvalues = eigenvalues[sorted_indices]\n",
        "eigenvectors = eigenvectors[:, sorted_indices]\n",
        "\n",
        "# Проекция данных на главные компоненты\n",
        "data_transformed = np.dot(mean_centered_data, eigenvectors)\n",
        "\n",
        "# График рассеяния\n",
        "plt.scatter(data_transformed[:, 0], data_transformed[:, 1])\n",
        "plt.title(\"Применение PCA\")\n",
        "plt.xlabel(\"Главная компонента 1\")\n",
        "plt.ylabel(\"Главная компонента 2\")\n",
        "plt.show()"
      ],
      "metadata": {
        "colab": {
          "base_uri": "https://localhost:8080/",
          "height": 472
        },
        "id": "_2nGvCuUQsjx",
        "outputId": "151d3dbd-7d1d-49f6-f366-8fc28b14f3f6"
      },
      "execution_count": null,
      "outputs": [
        {
          "output_type": "display_data",
          "data": {
            "text/plain": [
              "<Figure size 640x480 with 1 Axes>"
            ],
            "image/png": "[encoded data removed]"
          },
          "metadata": {}
        }
      ]
    },
    {
      "cell_type": "markdown",
      "source": [
        "### 2.3.3. SVD для расчёта PCA:"
      ],
      "metadata": {
        "id": "dlb1ap2pQS98"
      }
    },
    {
      "cell_type": "markdown",
      "source": [
        "Задача:\n",
        "У вас есть данные о росте (в сантиметрах) и доходе (в долларах) группы людей. Реализуйте метод главных компонент с использованием сингулярного разложения (SVD) и выведите главные компоненты."
      ],
      "metadata": {
        "id": "9p8fpHgeQUGO"
      }
    },
    {
      "cell_type": "code",
      "source": [
        "import numpy as np\n",
        "\n",
        "# Данные о росте и доходе (по столбцам)\n",
        "data = np.array([\n",
        "    [165, 50000],\n",
        "    [170, 55000],\n",
        "    [175, 60000],\n",
        "    [160, 45000],\n",
        "    [180, 70000]\n",
        "])\n",
        "\n",
        "# Вычисление сингулярного разложения\n",
        "mean_centered_data = data - np.mean(data, axis=0)\n",
        "num_samples = data.shape[0]\n",
        "cov_matrix = np.dot(mean_centered_data.T, mean_centered_data) / (num_samples - 1)\n",
        "U, S, Vt = np.linalg.svd(cov_matrix, full_matrices=False)\n",
        "\n",
        "# Главные компоненты\n",
        "principal_components = Vt.T\n",
        "\n",
        "print(\"Главные компоненты:\")\n",
        "print(principal_components)"
      ],
      "metadata": {
        "colab": {
          "base_uri": "https://localhost:8080/"
        },
        "id": "sNgm6qb-QV00",
        "outputId": "9dc728ff-4b15-4852-f088-810d833f6db8"
      },
      "execution_count": null,
      "outputs": [
        {
          "output_type": "stream",
          "name": "stdout",
          "text": [
            "Главные компоненты:\n",
            "[[-8.10810559e-04 -9.99999671e-01]\n",
            " [-9.99999671e-01  8.10810559e-04]]\n"
          ]
        }
      ]
    },
    {
      "cell_type": "code",
      "source": [
        "import numpy as np\n",
        "\n",
        "# Данные о росте и доходе (по столбцам)\n",
        "data = np.array([\n",
        "    [165, 50000],\n",
        "    [170, 55000],\n",
        "    [175, 60000],\n",
        "    [160, 45000],\n",
        "    [180, 70000]\n",
        "])\n",
        "\n",
        "# Вычисление средних\n",
        "mean_values = np.mean(data, axis=0)\n",
        "\n",
        "# Центрирование данных\n",
        "mean_centered_data = data - mean_values\n",
        "\n",
        "# Вычисление матрицы ковариации\n",
        "num_samples = data.shape[0]\n",
        "cov_matrix = np.dot(mean_centered_data.T, mean_centered_data) / (num_samples - 1)\n",
        "\n",
        "# Вычисление собственных значений и векторов матрицы ковариации\n",
        "eigenvalues, eigenvectors = np.linalg.eig(cov_matrix)\n",
        "\n",
        "# Сортировка собственных значений и векторов по убыванию\n",
        "sorted_indices = np.argsort(eigenvalues)[::-1]\n",
        "eigenvalues = eigenvalues[sorted_indices]\n",
        "eigenvectors = eigenvectors[:, sorted_indices]\n",
        "\n",
        "# Главные компоненты (собственные векторы)\n",
        "principal_components = eigenvectors\n",
        "\n",
        "print(\"Главные компоненты:\")\n",
        "print(principal_components)"
      ],
      "metadata": {
        "colab": {
          "base_uri": "https://localhost:8080/"
        },
        "id": "lSFfQ0CRRqr4",
        "outputId": "eaf6ebf8-f123-4970-a03d-7ad267ca0c22"
      },
      "execution_count": null,
      "outputs": [
        {
          "output_type": "stream",
          "name": "stdout",
          "text": [
            "Главные компоненты:\n",
            "[[-8.10810559e-04 -9.99999671e-01]\n",
            " [-9.99999671e-01  8.10810559e-04]]\n"
          ]
        }
      ]
    },
    {
      "cell_type": "markdown",
      "source": [
        "### 2.4.1. Базовые понятия. Байесовский вывод:"
      ],
      "metadata": {
        "id": "IWkVoUPBGqUj"
      }
    },
    {
      "cell_type": "markdown",
      "source": [
        "Задача:\n",
        "Представьте, что у вас есть монета, и вы хотите определить, является ли она справедливой (выпадение орла и решки равновероятно) или же она неправильная. Вы провели 10 подбрасываний и получили 7 раз орла и 3 раза решку. Известно, что у справедливой монеты вероятность выпадения орла или решки составляет 0.5. Используйте байесовский вывод, чтобы определить, какова вероятность того, что ваша монета справедливая."
      ],
      "metadata": {
        "id": "gyEGBmwLGsrd"
      }
    },
    {
      "cell_type": "code",
      "source": [
        "# Априорная вероятность справедливой монеты\n",
        "p_fair = 0.5\n",
        "\n",
        "# Данные\n",
        "num_flips = 10\n",
        "num_heads = 7\n",
        "num_tails = num_flips - num_heads\n",
        "\n",
        "# Апостериорная вероятность справедливой монеты с учетом данных\n",
        "p_fair_given_data = (p_fair * (0.5 ** num_heads) * (0.5 ** num_tails)) / (0.5 ** num_flips)\n",
        "\n",
        "print(\"Вероятность справедливой монеты с учетом данных:\", p_fair_given_data)"
      ],
      "metadata": {
        "id": "TDUTj8HWGuqf"
      },
      "execution_count": null,
      "outputs": []
    },
    {
      "cell_type": "markdown",
      "source": [
        "### 2.4.2. Статистическое моделирование. Априорная вероятность:"
      ],
      "metadata": {
        "id": "JGuyk0USGwIQ"
      }
    },
    {
      "cell_type": "markdown",
      "source": [
        "Задача:\n",
        "Вы рассматриваете задачу классификации, где необходимо определить, является ли письмо спамом или нет. Вы создали бинарный классификатор и хотите использовать байесовский подход для принятия решения. Вам известно, что вероятность получения спам-письма составляет 0.2, а вероятность получения неспам-письма 0.8. Классификатор дает положительный результат для спама с вероятностью 0.9 и для неспама с вероятностью 0.1. Какова вероятность того, что письмо действительно является спамом, если классификатор дал положительный результат?"
      ],
      "metadata": {
        "id": "W5BR4m10GyJR"
      }
    },
    {
      "cell_type": "code",
      "source": [
        "# Априорные вероятности\n",
        "p_spam = 0.2\n",
        "p_not_spam = 0.8\n",
        "\n",
        "# Вероятности классификации для спама и неспама\n",
        "p_positive_given_spam = 0.9\n",
        "p_positive_given_not_spam = 0.1\n",
        "\n",
        "# Вычисление апостериорной вероятности спама при положительном результате классификации\n",
        "p_spam_given_positive = (p_spam * p_positive_given_spam) / ((p_spam * p_positive_given_spam) + (p_not_spam * p_positive_given_not_spam))\n",
        "\n",
        "print(\"Вероятность, что письмо спам, при положительном результате классификации:\", p_spam_given_positive)"
      ],
      "metadata": {
        "id": "55rue2rwGzCM"
      },
      "execution_count": null,
      "outputs": []
    },
    {
      "cell_type": "markdown",
      "source": [
        "### 2.4.3. Выборка апостериорных распределений:"
      ],
      "metadata": {
        "id": "lWMUqNthG1--"
      }
    },
    {
      "cell_type": "markdown",
      "source": [
        "Задача:\n",
        "Вы исследуете количество посетителей на вашем веб-сайте в течение недели. Вы собрали данные о числе посетителей каждый день и хотите оценить апостериорное распределение среднего числа посетителей. Ваша априорная вероятность для среднего числа посетителей составляет нормальное распределение с средним 100 и стандартным отклонением 10. Ваши наблюдения (посетители в течение недели) имеют нормальное распределение со средним 120 и стандартным отклонением 15. Оцените апостериорное распределение среднего числа посетителей."
      ],
      "metadata": {
        "id": "aADi6T-EG30p"
      }
    },
    {
      "cell_type": "code",
      "source": [
        "import numpy as np\n",
        "import matplotlib.pyplot as plt\n",
        "from scipy.stats import norm\n",
        "\n",
        "# Априорное распределение\n",
        "prior_mean = 100\n",
        "prior_std = 10\n",
        "\n",
        "# Наблюдения\n",
        "observations = np.array([110, 125, 130, 105, 140, 115, 120])\n",
        "\n",
        "# Апостериорное распределение\n",
        "posterior_std = 1 / np.sqrt(1/prior_std**2 + len(observations)/15**2)\n",
        "posterior_mean = (prior_mean/prior_std**2 + np.sum(observations)/15**2) * posterior_std**2\n",
        "\n",
        "# Вывод графика апостериорного распределения\n",
        "x = np.linspace(80, 160, 1000)\n",
        "prior_pdf = norm.pdf(x, prior_mean, prior_std)\n",
        "posterior_pdf = norm.pdf(x, posterior_mean, posterior_std)\n",
        "\n",
        "plt.plot(x, prior_pdf, label='Априорное')\n",
        "plt.plot(x, posterior_pdf, label='Апостериорное')\n",
        "plt.title(\"Априорное и апостериорное распределения среднего числа посетителей\")\n",
        "plt.xlabel(\"Среднее число посетителей\")\n",
        "plt.ylabel(\"Плотность вероятности\")\n",
        "plt.legend()\n",
        "plt.show()\n"
      ],
      "metadata": {
        "id": "cpqisJXrG5OX",
        "outputId": "ce116328-44bd-4d36-b4b7-3d56d39bdf43",
        "colab": {
          "base_uri": "https://localhost:8080/",
          "height": 472
        }
      },
      "execution_count": null,
      "outputs": [
        {
          "output_type": "display_data",
          "data": {
            "text/plain": [
              "<Figure size 640x480 with 1 Axes>"
            ],
            "image/png": "[encoded data removed]"
          },
          "metadata": {}
        }
      ]
    },
    {
      "cell_type": "markdown",
      "source": [
        "### 2.4.4. Байесовская линейная регрессия:"
      ],
      "metadata": {
        "id": "CqPYik-KG6mM"
      }
    },
    {
      "cell_type": "markdown",
      "source": [],
      "metadata": {
        "id": "UtaFnYoAKOhn"
      }
    },
    {
      "cell_type": "markdown",
      "source": [
        "Провести байесовский анализ данных, используя библиотеку Pyro, для оценки параметров линейной регрессии и создания визуализации постериорных распределений. Используйте предоставленный код и выполните следующие шаги:\n",
        "\n",
        "1. Сгенерировать симулированные данные:\n",
        "   - Создайте симулированные данные `X` и `Y` с линейной зависимостью и добавлением случайного шума.\n",
        "\n",
        "2. Определить байесовскую модель регрессии:\n",
        "   - Определите априорные распределения для параметров регрессии: наклон (`slope`), пересечение (`intercept`) и стандартное отклонение (`sigma`).\n",
        "   - Опишите ожидаемое значение для зависимой переменной `mu`.\n",
        "   - Задайте правдоподобие (распределение выборки) для наблюдений.\n",
        "\n",
        "3. Выполнить байесовский вывод с использованием метода стохастической вариационной инференции (SVI):\n",
        "   - Определите аппроксимирующие постериорные распределения для параметров.\n",
        "   - Инициализируйте оптимизатор и SVI.\n",
        "   - Запустите цикл вывода в течение `num_iterations` и отслеживайте функцию потерь.\n",
        "\n",
        "4. Получить выборки из постериорного распределения с использованием Predictive:\n",
        "   - Используйте `Predictive` для получения постериорных выборок параметров модели.\n",
        "\n",
        "5. Вычислить средние значения параметров:\n",
        "   - Вычислите средние значения для наклона (`slope`), пересечения (`intercept`) и стандартного отклонения (`sigma`) из полученных выборок.\n",
        "\n",
        "6. Вывести оцененные параметры:\n",
        "   - Вывести оцененные значения наклона, пересечения и стандартного отклонения.\n",
        "\n",
        "7. Создать графики распределений параметров:\n",
        "   - Построить три подграфика, отображающих постериорные распределения наклона, пересечения и стандартного отклонения.\n",
        "\n",
        "8. Отобразить результаты:\n",
        "   - Отобразить графики постериорных распределений параметров и вычисленные оценки параметров."
      ],
      "metadata": {
        "id": "U4bizxSjKzLj"
      }
    },
    {
      "cell_type": "code",
      "source": [
        "!pip install pyro-ppl"
      ],
      "metadata": {
        "colab": {
          "base_uri": "https://localhost:8080/"
        },
        "id": "T64P04w950x_",
        "outputId": "0dcf83d4-ad3e-4a6c-e540-8f5368362286"
      },
      "execution_count": null,
      "outputs": [
        {
          "output_type": "stream",
          "name": "stdout",
          "text": [
            "Collecting pyro-ppl\n",
            "  Downloading pyro_ppl-1.8.6-py3-none-any.whl (732 kB)\n",
            "\u001b[?25l     \u001b[90m━━━━━━━━━━━━━━━━━━━━━━━━━━━━━━━━━━━━━━━━\u001b[0m \u001b[32m0.0/732.8 kB\u001b[0m \u001b[31m?\u001b[0m eta \u001b[36m-:--:--\u001b[0m\r\u001b[2K     \u001b[91m━━━━━\u001b[0m\u001b[91m╸\u001b[0m\u001b[90m━━━━━━━━━━━━━━━━━━━━━━━━━━━━━━━━━\u001b[0m \u001b[32m112.6/732.8 kB\u001b[0m \u001b[31m3.2 MB/s\u001b[0m eta \u001b[36m0:00:01\u001b[0m\r\u001b[2K     \u001b[91m━━━━━━━━━━━━━━━━━━━━━━━━━━━━━━━━━━━━━\u001b[0m\u001b[91m╸\u001b[0m \u001b[32m727.0/732.8 kB\u001b[0m \u001b[31m11.3 MB/s\u001b[0m eta \u001b[36m0:00:01\u001b[0m\r\u001b[2K     \u001b[90m━━━━━━━━━━━━━━━━━━━━━━━━━━━━━━━━━━━━━━━\u001b[0m \u001b[32m732.8/732.8 kB\u001b[0m \u001b[31m9.3 MB/s\u001b[0m eta \u001b[36m0:00:00\u001b[0m\n",
            "\u001b[?25hRequirement already satisfied: numpy>=1.7 in /usr/local/lib/python3.10/dist-packages (from pyro-ppl) (1.22.1)\n",
            "Requirement already satisfied: opt-einsum>=2.3.2 in /usr/local/lib/python3.10/dist-packages (from pyro-ppl) (3.3.0)\n",
            "Collecting pyro-api>=0.1.1 (from pyro-ppl)\n",
            "  Downloading pyro_api-0.1.2-py3-none-any.whl (11 kB)\n",
            "Requirement already satisfied: torch>=1.11.0 in /usr/local/lib/python3.10/dist-packages (from pyro-ppl) (2.0.1+cu118)\n",
            "Requirement already satisfied: tqdm>=4.36 in /usr/local/lib/python3.10/dist-packages (from pyro-ppl) (4.66.1)\n",
            "Requirement already satisfied: filelock in /usr/local/lib/python3.10/dist-packages (from torch>=1.11.0->pyro-ppl) (3.12.2)\n",
            "Requirement already satisfied: typing-extensions in /usr/local/lib/python3.10/dist-packages (from torch>=1.11.0->pyro-ppl) (4.5.0)\n",
            "Requirement already satisfied: sympy in /usr/local/lib/python3.10/dist-packages (from torch>=1.11.0->pyro-ppl) (1.12)\n",
            "Requirement already satisfied: networkx in /usr/local/lib/python3.10/dist-packages (from torch>=1.11.0->pyro-ppl) (3.1)\n",
            "Requirement already satisfied: jinja2 in /usr/local/lib/python3.10/dist-packages (from torch>=1.11.0->pyro-ppl) (3.1.2)\n",
            "Requirement already satisfied: triton==2.0.0 in /usr/local/lib/python3.10/dist-packages (from torch>=1.11.0->pyro-ppl) (2.0.0)\n",
            "Requirement already satisfied: cmake in /usr/local/lib/python3.10/dist-packages (from triton==2.0.0->torch>=1.11.0->pyro-ppl) (3.27.4.1)\n",
            "Requirement already satisfied: lit in /usr/local/lib/python3.10/dist-packages (from triton==2.0.0->torch>=1.11.0->pyro-ppl) (16.0.6)\n",
            "Requirement already satisfied: MarkupSafe>=2.0 in /usr/local/lib/python3.10/dist-packages (from jinja2->torch>=1.11.0->pyro-ppl) (2.1.3)\n",
            "Requirement already satisfied: mpmath>=0.19 in /usr/local/lib/python3.10/dist-packages (from sympy->torch>=1.11.0->pyro-ppl) (1.3.0)\n",
            "Installing collected packages: pyro-api, pyro-ppl\n",
            "Successfully installed pyro-api-0.1.2 pyro-ppl-1.8.6\n"
          ]
        }
      ]
    },
    {
      "cell_type": "code",
      "source": [
        "#Import the necessary libraries\n",
        "import torch\n",
        "import pyro\n",
        "import pyro.distributions as dist\n",
        "from pyro.infer import SVI, Trace_ELBO, Predictive\n",
        "from pyro.optim import Adam\n",
        "import matplotlib.pyplot as plt\n",
        "import seaborn as sns\n",
        "\n",
        "\n",
        "# Generate some sample data\n",
        "torch.manual_seed(0)\n",
        "X = torch.linspace(0, 10, 100)\n",
        "true_slope = 2\n",
        "true_intercept = 1\n",
        "Y = true_intercept + true_slope * X + torch.randn(100)\n",
        "\n",
        "# Define the Bayesian regression model\n",
        "def model(X, Y):\n",
        "\t# Priors for the parameters\n",
        "\tslope = pyro.sample(\"slope\", dist.Normal(0, 10))\n",
        "\tintercept = pyro.sample(\"intercept\", dist.Normal(0, 10))\n",
        "\tsigma = pyro.sample(\"sigma\", dist.HalfNormal(1))\n",
        "\n",
        "\t# Expected value of the outcome\n",
        "\tmu = intercept + slope * X\n",
        "\n",
        "\t# Likelihood (sampling distribution) of the observations\n",
        "\twith pyro.plate(\"data\", len(X)):\n",
        "\t\tpyro.sample(\"obs\", dist.Normal(mu, sigma), obs=Y)\n",
        "\n",
        "# Run Bayesian inference using SVI (Stochastic Variational Inference)\n",
        "def guide(X, Y):\n",
        "\t# Approximate posterior distributions for the parameters\n",
        "\tslope_loc = pyro.param(\"slope_loc\", torch.tensor(0.0))\n",
        "\tslope_scale = pyro.param(\"slope_scale\", torch.tensor(1.0),\n",
        "\t\t\t\t\t\t\tconstraint=dist.constraints.positive)\n",
        "\tintercept_loc = pyro.param(\"intercept_loc\", torch.tensor(0.0))\n",
        "\tintercept_scale = pyro.param(\"intercept_scale\", torch.tensor(1.0),\n",
        "\t\t\t\t\t\t\t\tconstraint=dist.constraints.positive)\n",
        "\tsigma_loc = pyro.param(\"sigma_loc\", torch.tensor(1.0),\n",
        "\t\t\t\t\t\tconstraint=dist.constraints.positive)\n",
        "\n",
        "\t# Sample from the approximate posterior distributions\n",
        "\tslope = pyro.sample(\"slope\", dist.Normal(slope_loc, slope_scale))\n",
        "\tintercept = pyro.sample(\"intercept\", dist.Normal(intercept_loc,\n",
        "\t\t\t\t\t\t\t\t\t\t\t\t\tintercept_scale))\n",
        "\tsigma = pyro.sample(\"sigma\", dist.HalfNormal(sigma_loc))\n",
        "\n",
        "# Initialize the SVI and optimizer\n",
        "optim = Adam({\"lr\": 0.01})\n",
        "svi = SVI(model, guide, optim, loss=Trace_ELBO())\n",
        "\n",
        "# Run the inference loop\n",
        "num_iterations = 1000\n",
        "for i in range(num_iterations):\n",
        "\tloss = svi.step(X, Y)\n",
        "\tif (i + 1) % 100 == 0:\n",
        "\t\tprint(f\"Iteration {i + 1}/{num_iterations} - Loss: {loss}\")\n",
        "\n",
        "# Obtain posterior samples using Predictive\n",
        "predictive = Predictive(model, guide=guide, num_samples=1000)\n",
        "posterior = predictive(X, Y)\n",
        "\n",
        "# Extract the parameter samples\n",
        "slope_samples = posterior[\"slope\"]\n",
        "intercept_samples = posterior[\"intercept\"]\n",
        "sigma_samples = posterior[\"sigma\"]\n",
        "\n",
        "# Compute the posterior means\n",
        "slope_mean = slope_samples.mean()\n",
        "intercept_mean = intercept_samples.mean()\n",
        "sigma_mean = sigma_samples.mean()\n",
        "\n",
        "# Print the estimated parameters\n",
        "print(\"Estimated Slope:\", slope_mean.item())\n",
        "print(\"Estimated Intercept:\", intercept_mean.item())\n",
        "print(\"Estimated Sigma:\", sigma_mean.item())\n",
        "\n",
        "\n",
        "# Create subplots\n",
        "fig, axs = plt.subplots(1, 3, figsize=(15, 5))\n",
        "\n",
        "# Plot the posterior distribution of the slope\n",
        "sns.kdeplot(slope_samples, shade=True, ax=axs[0])\n",
        "axs[0].set_title(\"Posterior Distribution of Slope\")\n",
        "axs[0].set_xlabel(\"Slope\")\n",
        "axs[0].set_ylabel(\"Density\")\n",
        "\n",
        "# Plot the posterior distribution of the intercept\n",
        "sns.kdeplot(intercept_samples, shade=True, ax=axs[1])\n",
        "axs[1].set_title(\"Posterior Distribution of Intercept\")\n",
        "axs[1].set_xlabel(\"Intercept\")\n",
        "axs[1].set_ylabel(\"Density\")\n",
        "\n",
        "# Plot the posterior distribution of sigma\n",
        "sns.kdeplot(sigma_samples, shade=True, ax=axs[2])\n",
        "axs[2].set_title(\"Posterior Distribution of Sigma\")\n",
        "axs[2].set_xlabel(\"Sigma\")\n",
        "axs[2].set_ylabel(\"Density\")\n",
        "\n",
        "# Adjust the layout\n",
        "plt.tight_layout()\n",
        "\n",
        "# Show the plot\n",
        "plt.show()\n"
      ],
      "metadata": {
        "colab": {
          "base_uri": "https://localhost:8080/",
          "height": 1000
        },
        "id": "6lw4XcX72_FS",
        "outputId": "9f19e41b-1a3e-4498-8dee-acb3734dd27a"
      },
      "execution_count": null,
      "outputs": [
        {
          "output_type": "stream",
          "name": "stdout",
          "text": [
            "Iteration 100/1000 - Loss: 68686.4717028141\n",
            "Iteration 200/1000 - Loss: 1957.5555412769318\n",
            "Iteration 300/1000 - Loss: 647.4666388630867\n",
            "Iteration 400/1000 - Loss: 788.460613489151\n",
            "Iteration 500/1000 - Loss: 3308.1987109184265\n",
            "Iteration 600/1000 - Loss: 20155.744435608387\n",
            "Iteration 700/1000 - Loss: 2545.9185713529587\n",
            "Iteration 800/1000 - Loss: 515579.91482806206\n",
            "Iteration 900/1000 - Loss: 1881.5490268468857\n",
            "Iteration 1000/1000 - Loss: 50892.48026061058\n",
            "Estimated Slope: 0.30964672565460205\n",
            "Estimated Intercept: 0.31471437215805054\n",
            "Estimated Sigma: 1.1101855039596558\n"
          ]
        },
        {
          "output_type": "stream",
          "name": "stderr",
          "text": [
            "<ipython-input-21-f5e5c6c66200>:85: FutureWarning: \n",
            "\n",
            "`shade` is now deprecated in favor of `fill`; setting `fill=True`.\n",
            "This will become an error in seaborn v0.14.0; please update your code.\n",
            "\n",
            "  sns.kdeplot(slope_samples, shade=True, ax=axs[0])\n",
            "<ipython-input-21-f5e5c6c66200>:91: FutureWarning: \n",
            "\n",
            "`shade` is now deprecated in favor of `fill`; setting `fill=True`.\n",
            "This will become an error in seaborn v0.14.0; please update your code.\n",
            "\n",
            "  sns.kdeplot(intercept_samples, shade=True, ax=axs[1])\n",
            "<ipython-input-21-f5e5c6c66200>:97: FutureWarning: \n",
            "\n",
            "`shade` is now deprecated in favor of `fill`; setting `fill=True`.\n",
            "This will become an error in seaborn v0.14.0; please update your code.\n",
            "\n",
            "  sns.kdeplot(sigma_samples, shade=True, ax=axs[2])\n"
          ]
        },
        {
          "output_type": "display_data",
          "data": {
            "text/plain": [
              "<Figure size 1500x500 with 3 Axes>"
            ],
            "image/png": "[encoded data removed]"
          },
          "metadata": {}
        }
      ]
    },
    {
      "cell_type": "code",
      "source": [],
      "metadata": {
        "id": "tgQ77NnQ5vkN"
      },
      "execution_count": null,
      "outputs": []
    }
  ]
}